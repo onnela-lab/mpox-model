{
 "cells": [
  {
   "cell_type": "markdown",
   "id": "db6672ca",
   "metadata": {},
   "source": [
    "### Import packages"
   ]
  },
  {
   "cell_type": "code",
   "execution_count": 1,
   "id": "5fa61312",
   "metadata": {},
   "outputs": [],
   "source": [
    "import networkx as nx\n",
    "import random\n",
    "import collections\n",
    "import numpy as np\n",
    "import pandas as pd\n",
    "import itertools\n",
    "import sys\n",
    "\n",
    "import mpox_utils \n",
    "\n",
    "from mpox_utils import *"
   ]
  },
  {
   "cell_type": "markdown",
   "id": "a1355c72",
   "metadata": {},
   "source": [
    "### Run Simulations"
   ]
  },
  {
   "cell_type": "markdown",
   "id": "14ab166a",
   "metadata": {},
   "source": [
    "#### Run baseline simulation (no behavior change or vaccination)"
   ]
  },
  {
   "cell_type": "code",
   "execution_count": 2,
   "id": "a11cddee",
   "metadata": {},
   "outputs": [],
   "source": [
    "seed = 1\n",
    "\n",
    "N = 10000\n",
    "n_initial= 10\n",
    "p_infect = 0.9\n",
    "steps = 250\n",
    "intervention_start = 70\n",
    "behavior_change = 0\n",
    "\n",
    "behavior_change_perc = 0.5\n",
    "vax_scenario = 0\n",
    "vax_delay = 30\n",
    "\n",
    "isolation = 1"
   ]
  },
  {
   "cell_type": "code",
   "execution_count": null,
   "id": "2cfcacad",
   "metadata": {},
   "outputs": [],
   "source": [
    "random.seed(seed)\n",
    "np.random.seed(seed)\n",
    "\n",
    "E_out, I_out, R_out, infection_tracker = simulate(seed, N, n_initial, p_infect, steps, intervention_start, behavior_change, \n",
    "                 isolation, behavior_change_perc, vax_scenario, vax_delay, daily_num_FD, daily_num_SD)"
   ]
  },
  {
   "cell_type": "code",
   "execution_count": 4,
   "id": "065f424b",
   "metadata": {},
   "outputs": [
    {
     "name": "stdout",
     "output_type": "stream",
     "text": [
      "Final cumulative infections:  132.0\n"
     ]
    }
   ],
   "source": [
    "total_infections = [x+y+z for x,y,z in zip(E_out, I_out, R_out)]\n",
    "print(\"Final cumulative infections: \", total_infections[-1])"
   ]
  },
  {
   "cell_type": "markdown",
   "id": "89d0e862",
   "metadata": {},
   "source": [
    "#### Run simulation with targeted behavior and vaccination"
   ]
  },
  {
   "cell_type": "code",
   "execution_count": null,
   "id": "a5883afc",
   "metadata": {},
   "outputs": [],
   "source": [
    "seed = 1\n",
    "\n",
    "N = 10000\n",
    "n_initial= 10\n",
    "p_infect = 0.9\n",
    "steps = 250\n",
    "intervention_start = 70\n",
    "behavior_change = 2\n",
    "\n",
    "behavior_change_perc = 0.5\n",
    "vax_scenario = 2\n",
    "vax_delay = 30\n",
    "\n",
    "isolation = 1"
   ]
  },
  {
   "cell_type": "code",
   "execution_count": null,
   "id": "cb397dda",
   "metadata": {},
   "outputs": [],
   "source": [
    "random.seed(seed)\n",
    "np.random.seed(seed)\n",
    "\n",
    "E_out, I_out, R_out, infection_tracker = simulate(seed, N, n_initial, p_infect, steps, intervention_start, behavior_change, \n",
    "                 isolation, behavior_change_perc, vax_scenario, vax_delay, daily_num_FD, daily_num_SD)"
   ]
  },
  {
   "cell_type": "code",
   "execution_count": null,
   "id": "ab27497a",
   "metadata": {},
   "outputs": [],
   "source": [
    "total_infections = [x+y+z for x,y,z in zip(E_out, I_out, R_out)]\n",
    "print(\"Final cumulative infections: \", total_infections[-1])"
   ]
  }
 ],
 "metadata": {
  "kernelspec": {
   "display_name": "Python 3 (ipykernel)",
   "language": "python",
   "name": "python3"
  },
  "language_info": {
   "codemirror_mode": {
    "name": "ipython",
    "version": 3
   },
   "file_extension": ".py",
   "mimetype": "text/x-python",
   "name": "python",
   "nbconvert_exporter": "python",
   "pygments_lexer": "ipython3",
   "version": "3.11.4"
  }
 },
 "nbformat": 4,
 "nbformat_minor": 5
}
