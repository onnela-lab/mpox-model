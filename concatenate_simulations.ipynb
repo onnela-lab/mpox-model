{
 "cells": [
  {
   "cell_type": "markdown",
   "id": "9ab96c70",
   "metadata": {},
   "source": [
    "### concatenate_simulations\n",
    "\n",
    "__Author:__ Emma Crenshaw \\\n",
    "__Date:__   7/18/2023 \n",
    "\n",
    "__Purpose:__ Takes the output from batch array jobs on the cluster (embarassingly parallel) that include a RANGE of values, concatenates them into a single CSV and saves the raw files in a compressed ZIP folder. The raw files are then deleted from the main simulations output folder.\n",
    "\n",
    "__Inputs__:\n",
    "* specify the simulation inputs\n",
    "* specify the date\n",
    "* specify whether the simulation represents baseline or not (slightly different naming convention)"
   ]
  },
  {
   "cell_type": "code",
   "execution_count": 1,
   "id": "7892724d",
   "metadata": {},
   "outputs": [],
   "source": [
    "import pandas as pd\n",
    "import numpy as np\n",
    "import os\n",
    "import zipfile as zf"
   ]
  },
  {
   "cell_type": "code",
   "execution_count": 48,
   "id": "9e9debff",
   "metadata": {},
   "outputs": [],
   "source": [
    "sim_name = 'mpox_'\n",
    "date = '2024-10-10'\n",
    "\n",
    "num_sims = 100\n",
    "\n",
    "\n",
    "intervention_start = list(range(30,120,10))\n",
    "intervention_start_name = '30to110'\n",
    "\n",
    "#intervention_start = [70]\n",
    "#intervention_start_name = '70'\n",
    "\n",
    "behavior_change = 2\n",
    "#isolation = [0,1,2]\n",
    "#isolation_name = '012'\n",
    "isolation = [2]\n",
    "isolation_name = '2'\n",
    "\n",
    "\n",
    "behavior_change_perc = 0.25\n",
    "vax_scenario = 2\n",
    "#vax_delay = list(range(0, -35, -5)) + [-365, -730]\n",
    "#vax_delay_name = '0to-30'\n",
    "vax_delay = list(range(5, 35, 5))\n",
    "vax_delay_name = '5to30'\n",
    "#vax_delay = [30]\n",
    "#vax_delay_name = '30'\n",
    "\n",
    "\n",
    "\n",
    "baseline = 0\n",
    "\n",
    "if sim_name == \"mpox_\":\n",
    "    num_steps = 250\n",
    "elif sim_name == \"rstar_\":\n",
    "    num_steps = 16\n",
    "\n",
    "if baseline == 0:\n",
    "    sim_string = str(intervention_start_name) + '-' + str(behavior_change) + '-' + str(behavior_change_perc) + \\\n",
    "          '-' + str(isolation_name) + '-' + str(vax_delay_name) + '-' + str(vax_scenario)\n",
    "else:\n",
    "    sim_string = 'baseline'\n",
    "    \n",
    "location = 'output/' + sim_string + '/'"
   ]
  },
  {
   "cell_type": "code",
   "execution_count": 49,
   "id": "1dd553a4",
   "metadata": {},
   "outputs": [],
   "source": [
    "totnum = len(vax_delay)*len(intervention_start)*len(isolation)\n",
    "\n",
    "# Note, the number of columns to add to num_steps depends on the data; the input from simulations with a range of intervention start times\n",
    "#       needs +3, those with a single intervention start time only needs +2\n",
    "# In the simulations with a single start time, the first column indicates the simulation number and the second indicates the isolation scenario\n",
    "# In the simulations with a range of start times, the first column is the simulation number, the second is the start time for the \n",
    "#       behavioral intervention, and the third is the start time for the vaccinations\n",
    "\n",
    "df = np.zeros((totnum,num_steps+3))\n",
    "\n",
    "for i in range(1, num_sims+1):\n",
    "    raw = np.array(pd.read_csv(location + str(sim_name) + sim_string + '_'+ str(i) + '_' + date + '.csv'))\n",
    "    sim = np.array([i]*totnum)\n",
    "    sim.shape = totnum , 1\n",
    "    raw2 = np.append(sim, raw, axis=1)\n",
    "    df = np.vstack((df, raw2))\n",
    "\n"
   ]
  },
  {
   "cell_type": "code",
   "execution_count": 50,
   "id": "705159d8",
   "metadata": {},
   "outputs": [],
   "source": [
    "df_final = pd.DataFrame(df)\n",
    "\n",
    "df_final.to_csv(location + str(sim_name) + sim_string + '_'+ str(date)+'.csv', \n",
    "          header = False, index=False)"
   ]
  },
  {
   "cell_type": "code",
   "execution_count": 51,
   "id": "d04fb8b0",
   "metadata": {},
   "outputs": [],
   "source": [
    "files = os.listdir(location)\n",
    "\n",
    "relevant = [x for x in files if (date in x) and ((sim_name + sim_string) in x) and \n",
    "            (x != sim_name + sim_string + '_' + date + '.csv') and (x != sim_name + sim_string + '_' + date + '.zip')]\n",
    "\n",
    "with zf.ZipFile('output/' + sim_name + sim_string + '_' + date +'.zip', 'w') as zipMe:        \n",
    "    for file in relevant:\n",
    "        zipMe.write(filename = location+file, arcname = file, compress_type=zf.ZIP_DEFLATED)\n",
    "        \n",
    "# now delete the files\n",
    "for file in relevant:\n",
    "    os.remove(location+file)"
   ]
  }
 ],
 "metadata": {
  "kernelspec": {
   "display_name": "Python 3",
   "language": "python",
   "name": "python3"
  },
  "language_info": {
   "codemirror_mode": {
    "name": "ipython",
    "version": 3
   },
   "file_extension": ".py",
   "mimetype": "text/x-python",
   "name": "python",
   "nbconvert_exporter": "python",
   "pygments_lexer": "ipython3",
   "version": "3.8.8"
  }
 },
 "nbformat": 4,
 "nbformat_minor": 5
}
